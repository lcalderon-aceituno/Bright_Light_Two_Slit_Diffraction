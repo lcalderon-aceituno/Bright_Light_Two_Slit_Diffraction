{
  "nbformat": 4,
  "nbformat_minor": 0,
  "metadata": {
    "colab": {
      "name": "Two Slit Bright Light.ipynb",
      "provenance": [],
      "authorship_tag": "ABX9TyPhS97ubGWhSsggS7FfwbDK",
      "include_colab_link": true
    },
    "kernelspec": {
      "name": "python3",
      "display_name": "Python 3"
    }
  },
  "cells": [
    {
      "cell_type": "markdown",
      "metadata": {
        "id": "view-in-github",
        "colab_type": "text"
      },
      "source": [
        "<a href=\"https://colab.research.google.com/github/lcalderon-aceituno24/Bright_Light_Two_Slit_Diffraction/blob/main/Two_Slit_Bright_Light.ipynb\" target=\"_parent\"><img src=\"https://colab.research.google.com/assets/colab-badge.svg\" alt=\"Open In Colab\"/></a>"
      ]
    },
    {
      "cell_type": "markdown",
      "metadata": {
        "id": "DVP_T4YmXAAz"
      },
      "source": [
        "# Two-slit Interference with Bright Light Analysis \n",
        "\n",
        "Lydia Calderon-Aceituno | September 29, 2020\n",
        "\n",
        "In this lab, the two-slit interference pattern created by bright light will be observed and analysied. Additionally, interference patterns for single-slit and two-slit scenarios will be measured and slit widths and the wavelength of light will be determined."
      ]
    },
    {
      "cell_type": "markdown",
      "metadata": {
        "id": "MKQhCOchXI8l"
      },
      "source": [
        "# Equipment\n",
        "* Two-slit interference, one-photon-at-a-time apparatus, TechSpin, TWS 1-A, TWS 325.\n",
        "* T-shaped viewing card, TechSpin.\n",
        "* Digital multimeter, FLUKE, 179 TRUE RMS MULTIMETER, 002064."
      ]
    },
    {
      "cell_type": "markdown",
      "metadata": {
        "id": "YqSWUBO0_MnC"
      },
      "source": [
        "# Slit-blocker positions\n"
      ]
    },
    {
      "cell_type": "markdown",
      "metadata": {
        "id": "PwOVtElhF0py"
      },
      "source": [
        "## Transition locations\n",
        "\n",
        "* Far bar first becomes visible: 3.05 mm\n",
        "* Near bar first becomes visible: 3.44 mm\n",
        "* Far bar first blocked: 3.86 mm\n",
        "* Near bar first blocked: 5.44 mm\n",
        "\n",
        "* Far slit unblocked: 3.25 mm\n",
        "* Near slit unblocked: 4.65 mm\n",
        "* Both slits unblocked: 3.95 mm"
      ]
    },
    {
      "cell_type": "markdown",
      "metadata": {
        "id": "1NV1BsHGyybC"
      },
      "source": [
        "**NOTE FOR NEAR SLIT ONLY GRAPH: Due to some error in measurement, the distance for near slit only did not function and there was still interference observed. In order for the near slit only to be uncovered and there to be no interference, the slit blocker distance had to be changed from 4.65mm to 4.90 mm\t"
      ]
    },
    {
      "cell_type": "code",
      "metadata": {
        "id": "u38yLwcVFybk"
      },
      "source": [
        "distanceToDetector = 508 # distance from double-slit in mm"
      ],
      "execution_count": null,
      "outputs": []
    },
    {
      "cell_type": "markdown",
      "metadata": {
        "id": "-Bm1iPCXIIgg"
      },
      "source": [
        "# Key landmarks in the interference pattern"
      ]
    },
    {
      "cell_type": "markdown",
      "metadata": {
        "id": "hDhCD-5WJZ6M"
      },
      "source": [
        "Label | Location (mm) | Photodiode Voltage (V)\n",
        "--- | --- | ---\n",
        "$\\mathrm{B_f}$ |3.88 |0.169\n",
        "$\\mathrm{1_f}$ |4.31 |3.437\n",
        "$\\mathrm{A_f}$ |4.73|0.088\n",
        "$0$ |5.12|4.092 \n",
        "$\\mathrm{A_n}$ |5.53|0.067\n",
        "$\\mathrm{1_n}$ |5.93|3.430\n",
        "$\\mathrm{B_n}$ |6.35|0.109"
      ]
    },
    {
      "cell_type": "markdown",
      "metadata": {
        "id": "aGZdlmaLPkhn"
      },
      "source": [
        "### Checks were performed to ensure that the pattern is approximately symmetric around the central maximum. This is verified by checking that the distance from the primary maximum to the secondary maximums are comparable and that the voltages at the secondary maximums are approximately equal (a difference of less than 0.4 V)."
      ]
    },
    {
      "cell_type": "code",
      "metadata": {
        "id": "UfGacLXzJZbF"
      },
      "source": [
        "centerLocation = 5.12 # position of central max in mm "
      ],
      "execution_count": null,
      "outputs": []
    },
    {
      "cell_type": "markdown",
      "metadata": {
        "id": "aJHBmUOItwQs"
      },
      "source": [
        "# Load libraries and data\n"
      ]
    },
    {
      "cell_type": "code",
      "metadata": {
        "id": "y7IMWUGzGwHO"
      },
      "source": [
        "import numpy as np\n",
        "import pandas as pd\n",
        "import matplotlib.pyplot as plt\n",
        "from scipy.optimize import curve_fit"
      ],
      "execution_count": null,
      "outputs": []
    },
    {
      "cell_type": "code",
      "metadata": {
        "id": "X1idno72t6KY"
      },
      "source": [
        "from google.colab import auth\n",
        "from oauth2client.client import GoogleCredentials\n",
        "import gspread\n",
        "from gspread_dataframe import get_as_dataframe"
      ],
      "execution_count": null,
      "outputs": []
    },
    {
      "cell_type": "code",
      "metadata": {
        "id": "VmI44Wv7t6zv"
      },
      "source": [
        "auth.authenticate_user()\n",
        "gc = gspread.authorize(GoogleCredentials.get_application_default())"
      ],
      "execution_count": null,
      "outputs": []
    },
    {
      "cell_type": "code",
      "metadata": {
        "id": "orpuLGl5t9EB"
      },
      "source": [
        "spreadsheet = gc.open(\"Two Slit Bright Data\")"
      ],
      "execution_count": null,
      "outputs": []
    },
    {
      "cell_type": "code",
      "metadata": {
        "id": "YhhAODxIuKfR"
      },
      "source": [
        "df_near = get_as_dataframe(spreadsheet.worksheet(\"Near Slit Only\"), usecols=[0,1],nrows=35)\n",
        "df_far = get_as_dataframe(spreadsheet.worksheet(\"Far Slit Only\"), usecols=[0,1],nrows=35)\n",
        "df_both = get_as_dataframe(spreadsheet.worksheet(\"Both Slits\"), usecols=[0,1],nrows=35)"
      ],
      "execution_count": null,
      "outputs": []
    },
    {
      "cell_type": "code",
      "metadata": {
        "id": "naMS0RCrugxV"
      },
      "source": [
        "detectorLocation = df_near['Location (mm)']\n",
        "V_near = df_near['Photodiode Voltage (V)']\n",
        "V_far = df_far['Photodiode Voltage (V)']\n",
        "V_both = df_both['Photodiode Voltage (V)']"
      ],
      "execution_count": null,
      "outputs": []
    },
    {
      "cell_type": "code",
      "metadata": {
        "id": "0RflY2iuujP1"
      },
      "source": [
        "x = detectorLocation - centerLocation"
      ],
      "execution_count": null,
      "outputs": []
    },
    {
      "cell_type": "markdown",
      "metadata": {
        "id": "bH-U5J8mvB_M"
      },
      "source": [
        "# Single slit diffraction"
      ]
    },
    {
      "cell_type": "code",
      "metadata": {
        "id": "lNa4l2KSvL2E"
      },
      "source": [
        "def I_ss(x, I0, a, x0):\n",
        "  wavelength = 0.000670 # 670 nm converted to mm\n",
        "  q = np.arctan((x-x0)/distanceToDetector)\n",
        "  return I0*np.sinc(a*np.sin(q)/wavelength)**2\n",
        " "
      ],
      "execution_count": null,
      "outputs": []
    },
    {
      "cell_type": "code",
      "metadata": {
        "id": "ArMi0PuxvSuW",
        "colab": {
          "base_uri": "https://localhost:8080/"
        },
        "outputId": "6adab476-e2df-4fc1-ccee-1b3be19958c0"
      },
      "source": [
        "paramGuess = [1.14, 0.1,-0.5]\n",
        "fitParamFar, fitCovFar = curve_fit(I_ss, x, V_far, p0 = paramGuess)\n",
        "fitErrorsFar = 2*np.sqrt(np.diagonal(fitCovFar))\n",
        "print(fitParamFar)\n",
        "print(fitErrorsFar)"
      ],
      "execution_count": null,
      "outputs": [
        {
          "output_type": "stream",
          "text": [
            "[ 1.17641858  0.10002781 -0.50360461]\n",
            "[0.00594022 0.00093389 0.01029592]\n"
          ],
          "name": "stdout"
        }
      ]
    },
    {
      "cell_type": "code",
      "metadata": {
        "id": "NtGBJnwRxBun",
        "colab": {
          "base_uri": "https://localhost:8080/"
        },
        "outputId": "3524f406-96cd-439e-cdde-0765e49b03aa"
      },
      "source": [
        "paramGuess = [1.07, 0.1,0.6]\n",
        "fitParamNear, fitCovNear = curve_fit(I_ss, x, V_near, p0 = paramGuess)\n",
        "fitErrorsNear = 2*np.sqrt(np.diagonal(fitCovNear))\n",
        "print(fitParamNear)\n",
        "print(fitErrorsNear)"
      ],
      "execution_count": null,
      "outputs": [
        {
          "output_type": "stream",
          "text": [
            "[1.06347146 0.1045432  0.45392163]\n",
            "[0.00982592 0.00165566 0.01668012]\n"
          ],
          "name": "stdout"
        }
      ]
    },
    {
      "cell_type": "code",
      "metadata": {
        "id": "SrYchdYevFMi",
        "colab": {
          "base_uri": "https://localhost:8080/",
          "height": 279
        },
        "outputId": "dfe57101-0fcc-4a71-915c-93d36eb9aa70"
      },
      "source": [
        "fig_ss, ax_ss = plt.subplots();\n",
        "ax_ss.scatter(x, V_near, marker='.', label=\"Near slit\");\n",
        "ax_ss.scatter(x, V_far, marker='.', label=\"Far slit\");\n",
        "ax_ss.set_xlabel(\"Position relative to center (mm)\");\n",
        "ax_ss.set_ylabel(\"Intensity (a.u.)\");\n",
        "ax_ss.legend();\n",
        "x_fit = np.linspace(-2, 2, 100);\n",
        "ax_ss.plot(x_fit, I_ss(x_fit, *fitParamNear));\n",
        "ax_ss.plot(x_fit, I_ss(x_fit, *fitParamFar));\n",
        "ax_ss.set_xlim(-2, +2);\n",
        "ax_ss.set_ylim(0, 1.3);"
      ],
      "execution_count": null,
      "outputs": [
        {
          "output_type": "display_data",
          "data": {
            "image/png": "[encoded data removed]",
            "text/plain": [
              "<Figure size 432x288 with 1 Axes>"
            ]
          },
          "metadata": {
            "tags": [],
            "needs_background": "light"
          }
        }
      ]
    },
    {
      "cell_type": "code",
      "metadata": {
        "id": "16mpVWCB3TeS",
        "colab": {
          "base_uri": "https://localhost:8080/"
        },
        "outputId": "97e562b9-dbec-42da-d8b2-fc5f56dd5388"
      },
      "source": [
        "a_near = fitParamNear[1]\n",
        "a_far = fitParamFar[1]\n",
        "slitPercentDiff = 100*(a_near-a_far)/(0.5*(a_near+a_far))\n",
        "print(slitPercentDiff)"
      ],
      "execution_count": null,
      "outputs": [
        {
          "output_type": "stream",
          "text": [
            "4.414490713090644\n"
          ],
          "name": "stdout"
        }
      ]
    },
    {
      "cell_type": "code",
      "metadata": {
        "id": "T_i79ZDf3V6-",
        "colab": {
          "base_uri": "https://localhost:8080/"
        },
        "outputId": "d85a999f-85e5-44b5-8537-8d8663e1dd05"
      },
      "source": [
        "I_ss_near = fitParamNear[1]\n",
        "I_ss_far = fitParamFar[1]\n",
        "intensityPercentDiff = 100*(I_ss_near-I_ss_far)/(0.5*(I_ss_near+I_ss_far))\n",
        "print(intensityPercentDiff)"
      ],
      "execution_count": null,
      "outputs": [
        {
          "output_type": "stream",
          "text": [
            "4.414490713090644\n"
          ],
          "name": "stdout"
        }
      ]
    },
    {
      "cell_type": "markdown",
      "metadata": {
        "id": "R2GO596czHe4"
      },
      "source": [
        "## Fits results\n",
        "### Far slit\n",
        "* $I_0 = 1.176 \\pm 0.006$\n",
        "* $a = (0.1000 \\pm 0.0009 )\\ \\mathrm{mm}$\n",
        "* $x_0 = (-0.50 \\pm 0.01)\\ \\mathrm{mm}$\n",
        "* The 95% confidence interval for the slit width is 0.0991 to 0.1009 mm.\n",
        "### Near slit\n",
        "* $I_0 = 1.073 \\pm 0.010$  \n",
        "* $a = (0.105 \\pm 0.002)\\ \\mathrm{mm}$\n",
        "* $x_0 = (0.45 \\pm 0.02)\\ \\mathrm{mm}$\n",
        "* The 95% confidence interval for the slit width is 0.103 to 0.107 mm.\n",
        "### Comparison\n",
        "* The slit width confidence intervals do overlap.\n",
        "* The slit widths differ by 4.41%.\n",
        "* The intensities differ by 4.41%."
      ]
    },
    {
      "cell_type": "markdown",
      "metadata": {
        "id": "VfrWmYNH7soB"
      },
      "source": [
        "# Two-slit interference"
      ]
    },
    {
      "cell_type": "code",
      "metadata": {
        "id": "NGc1xm1674jO"
      },
      "source": [
        "def I_ts(x, I0, a, wavelength, x0, dI):\n",
        "  d = 0.406 # mm\n",
        "  q = np.arctan((x-x0)/distanceToDetector)\n",
        "  I2s = I0*np.sinc(a*np.sin(q)/wavelength)**2*np.cos(np.pi*d*np.sin(q)/wavelength)**2\n",
        "  return I2s + dI"
      ],
      "execution_count": null,
      "outputs": []
    },
    {
      "cell_type": "code",
      "metadata": {
        "id": "UNQnweeQCEKO",
        "colab": {
          "base_uri": "https://localhost:8080/"
        },
        "outputId": "ca7a2cde-c279-4671-e933-0353c87694fa"
      },
      "source": [
        "paramGuess = [4.06, 0.1,0.000670,0.0,0.09]\n",
        "fitParamBoth, fitCovBoth = curve_fit(I_ts,x,V_both,p0 = paramGuess)\n",
        "fitErrorsBoth = 2*np.sqrt(np.diagonal(fitCovBoth))\n",
        "print(fitParamBoth)\n",
        "print(fitErrorsBoth)\n"
      ],
      "execution_count": null,
      "outputs": [
        {
          "output_type": "stream",
          "text": [
            "[3.99931869e+00 9.85219703e-02 6.55232902e-04 1.98477887e-02\n",
            " 1.07969697e-01]\n",
            "[7.86593509e-02 2.23419992e-03 2.25750475e-06 2.61092862e-03\n",
            " 3.97260146e-02]\n"
          ],
          "name": "stdout"
        }
      ]
    },
    {
      "cell_type": "code",
      "metadata": {
        "id": "0vzgA_ujua5Q",
        "colab": {
          "base_uri": "https://localhost:8080/",
          "height": 283
        },
        "outputId": "ba8fbd27-d4e1-44ba-9af3-e8c8d554194e"
      },
      "source": [
        "fig_ts, ax_ts = plt.subplots();\n",
        "ax_ts.scatter(x, V_both, marker='.', label=\"Both slits\");\n",
        "ax_ts.set_xlabel(\"Position relative to center (mm)\");\n",
        "ax_ts.set_ylabel(\"Intensity (a.u.)\");\n",
        "x_fit = np.linspace(-2, 2, 100);\n",
        "ax_ts.plot(x_fit, I_ts(x_fit,*fitParamBoth));\n",
        "ax_ts.set_xlim(-2, 2);\n",
        "ax_ts.set_ylim(0, 4.5);"
      ],
      "execution_count": null,
      "outputs": [
        {
          "output_type": "display_data",
          "data": {
            "image/png": "[encoded data removed]",
            "text/plain": [
              "<Figure size 432x288 with 1 Axes>"
            ]
          },
          "metadata": {
            "tags": [],
            "needs_background": "light"
          }
        }
      ]
    },
    {
      "cell_type": "markdown",
      "metadata": {
        "id": "xk7JurMxx3IH"
      },
      "source": [
        "## Fits results\n",
        "### Both slits\n",
        "* $I_0 = 4.00 \\pm 0.08$\n",
        "* $a = (0.100 \\pm 0.002)\\ \\mathrm{mm}$\n",
        "* $\\lambda = (655 \\pm 2)\\ \\mathrm{nm}$\n",
        "* $x_0 = (0.020 \\pm 0.003)\\ \\mathrm{mm}$\n",
        "* The 95% confidence interval for the slit width is 0.008 to 0.012 mm.\n",
        "* The 95% confidence interval for the wavelength is 653 to 658 nm.\n",
        "\n",
        "The laser specifications were that its wavelength was between 665 and 675 nm. The calculated 95% confidence interval for the wavelength is 653 to 658 nm so this falls inside the specified range.\n",
        "The manufacturer's specifications were that the slit width was 0.1 mm. The calculated 95% confidence interval for the slit width is 0.098 to 0.102 mm so this falls inside of the specified range. "
      ]
    },
    {
      "cell_type": "code",
      "metadata": {
        "id": "VnvNkuEuvKNi"
      },
      "source": [
        ""
      ],
      "execution_count": null,
      "outputs": []
    }
  ]
}